{
 "cells": [
  {
   "cell_type": "code",
   "execution_count": null,
   "id": "70379d74",
   "metadata": {},
   "outputs": [],
   "source": [
    "import pandas as pd\n",
    "from sklearn.compose import ColumnTransformer\n",
    "from sklearn.preprocessing import OneHotEncoder\n",
    "from sklearn.impute import SimpleImputer\n",
    "from sklearn.pipeline import Pipeline\n",
    "from sklearn.model_selection import train_test_split\n",
    "from xgboost import XGBClassifier\n",
    "import json\n",
    "import os\n",
    "from itertools import product\n",
    "import warnings\n"
   ]
  },
  {
   "cell_type": "markdown",
   "id": "cdefdb09",
   "metadata": {},
   "source": [
    "# Problema"
   ]
  },
  {
   "cell_type": "markdown",
   "id": "ac03bdb1",
   "metadata": {},
   "source": [
    "Risolveremo un problema giocattolo di classificazione binaria, basato sul _LendingClub Dataset_.\n",
    "\n",
    "Il modello che alleneremo, dovrà determinare se un individuo sarà in grado di estinguere il prestito in base ai dati collezionati durante l'avvio della pratica. La variabile target sarà, pertanto, __loan_risk__ che assumerà i valori:\n",
    "- Paid, a indicare che il cliente ha saldato il debito entro i tempi previsti (1)\n",
    "- Charged off, altrimenti (0)"
   ]
  },
  {
   "cell_type": "markdown",
   "id": "ba3f613d",
   "metadata": {},
   "source": [
    "Vedremo come mlflow può rivelarsi utile in diversi step di una pipeline di produzione:\n",
    "1) ottimizzeremo i parametri del modello, quindi, terremo traccia dei diversi esperimento\n",
    "2) salveremo i modelli in un registro\n",
    "3) metteremo i modelli in produzione, esponendolo attraverso un api"
   ]
  },
  {
   "cell_type": "code",
   "execution_count": null,
   "id": "c98d005e",
   "metadata": {},
   "outputs": [],
   "source": [
    "data = pd.read_csv('./train_dataset.csv')\n",
    "data_test = pd.read_csv('./test_dataset.csv')"
   ]
  },
  {
   "cell_type": "code",
   "execution_count": null,
   "id": "9f7f9c5d",
   "metadata": {},
   "outputs": [],
   "source": [
    "data.head()"
   ]
  },
  {
   "cell_type": "code",
   "execution_count": null,
   "id": "f1949795",
   "metadata": {},
   "outputs": [],
   "source": [
    "data['loan_risk'].value_counts()"
   ]
  },
  {
   "cell_type": "code",
   "execution_count": null,
   "id": "3a84cd48",
   "metadata": {},
   "outputs": [],
   "source": [
    "data['loan_risk'] = data['loan_risk'].apply(lambda x: 1 if x == 'Paid' else 0)\n",
    "data_test['loan_risk'] = data_test['loan_risk'].apply(lambda x: 1 if x == 'Paid' else 0)"
   ]
  },
  {
   "cell_type": "code",
   "execution_count": null,
   "id": "ffa086e9",
   "metadata": {},
   "outputs": [],
   "source": [
    "data_train, data_val = train_test_split(data, test_size=0.2)"
   ]
  },
  {
   "cell_type": "markdown",
   "id": "71d1d73c",
   "metadata": {},
   "source": [
    "# Pipeline di classificazione"
   ]
  },
  {
   "attachments": {
    "immagine.png": {
     "image/png": "[encoded data removed]"
    }
   },
   "cell_type": "markdown",
   "id": "347dd9dc",
   "metadata": {},
   "source": [
    "1) I dati da dare in pasto al modello vengono processati e preparati\n",
    "2) Si allena il modello\n",
    "3) Si valuta la predizione"
   ]
  },
  {
   "cell_type": "code",
   "execution_count": null,
   "id": "200ae12f",
   "metadata": {},
   "outputs": [],
   "source": [
    "def train_xgboost_pipeline(data_x, data_y, parameters=None):\n",
    "    # Questa funzione allena un classificatore xgboost utilizzando gli iperparametri definiti in parameters\n",
    "\n",
    "    if parameters is None:\n",
    "        parameters = dict(\n",
    "            n_estimators=100, \n",
    "            max_depth=4, \n",
    "            scale_pos_weight=1,\n",
    "            learning_rate=0.1\n",
    "        )\n",
    "    \n",
    "    # Preprocessamento features numeriche e categoriche\n",
    "\n",
    "    numerical_features = data_x.select_dtypes(include=\"number\").columns\n",
    "    categorical_features = data_x.select_dtypes(include=\"object\").columns\n",
    "\n",
    "    # sostituiamo eventuali valori nulli utilizzando la mediana lungo ogni colonna\n",
    "    numerical_transformer = Pipeline(steps=[('imputer', SimpleImputer(strategy='median'))])\n",
    "\n",
    "    # codifichiamo le variabili categoriche\n",
    "    categorical_transformer = Pipeline(steps=[('onehot', OneHotEncoder(handle_unknown='ignore'))])\n",
    "\n",
    "\n",
    "    # applichiamo le tasformazioni alle colonne\n",
    "    preprocessor = ColumnTransformer(\n",
    "        transformers=[\n",
    "            ('ord', numerical_transformer, numerical_features), \n",
    "            ('cat', categorical_transformer, categorical_features)\n",
    "        ]\n",
    "    )\n",
    "\n",
    "    # Creazione di una pipeline preprocessor + XGBoost\n",
    "    \n",
    "    xgb_clf = XGBClassifier(\n",
    "        n_estimators=parameters['n_estimators'],\n",
    "        max_depth=parameters['max_depth'],\n",
    "        scale_pos_weight=parameters['scale_pos_weight'],\n",
    "        learning_rate=parameters['learning_rate'],\n",
    "        random_state=42,\n",
    "        n_jobs=4\n",
    "    )\n",
    "\n",
    "    xgb_pipeline = Pipeline(\n",
    "        steps=[\n",
    "            (\"preprocessing\", preprocessor), \n",
    "            (\"xgb_model\", xgb_clf)\n",
    "        ]\n",
    "    )\n",
    "\n",
    "    # Fit della pipeline\n",
    "\n",
    "    xgb_pipeline.fit(data_x, data_y)\n",
    "\n",
    "    return xgb_pipeline"
   ]
  },
  {
   "cell_type": "code",
   "execution_count": null,
   "id": "94d30f32",
   "metadata": {},
   "outputs": [],
   "source": [
    "clf = train_xgboost_pipeline(data_train.drop(['loan_risk'],axis=1), data_train['loan_risk'])"
   ]
  },
  {
   "cell_type": "code",
   "execution_count": null,
   "id": "1554bb11",
   "metadata": {},
   "outputs": [],
   "source": [
    "clf"
   ]
  },
  {
   "cell_type": "code",
   "execution_count": null,
   "id": "2df335af",
   "metadata": {},
   "outputs": [],
   "source": [
    "from sklearn.metrics import classification_report\n",
    "\n",
    "report_val = classification_report(data_val['loan_risk'],\n",
    "                                   clf.predict(data_val.drop(['loan_risk'],axis=1)), \n",
    "                                   output_dict=True)\n",
    "\n",
    "report_test = classification_report(data_test['loan_risk'],\n",
    "                                    clf.predict(data_test.drop(['loan_risk'],axis=1)), \n",
    "                                    output_dict=True)"
   ]
  },
  {
   "cell_type": "code",
   "execution_count": null,
   "id": "0da3cc98",
   "metadata": {},
   "outputs": [],
   "source": [
    "report_val"
   ]
  },
  {
   "cell_type": "markdown",
   "id": "74cea044",
   "metadata": {},
   "source": [
    "# Grid search\n"
   ]
  },
  {
   "cell_type": "markdown",
   "id": "3cd26e4d",
   "metadata": {},
   "source": [
    "Cerchiamo la combinazione di parametri che restituisce i migliori risulatati sul set di validazione. Quindi, logghiamo ciascun esperimento usando mlflow."
   ]
  },
  {
   "cell_type": "code",
   "execution_count": null,
   "id": "e8d61554",
   "metadata": {},
   "outputs": [],
   "source": [
    "import mlflow\n",
    "\n",
    "max_depth = [3, 6]\n",
    "scale_pos_weight = [0.1, 1, 10]\n",
    "learning_rate = [0.01, 0.001]\n",
    "n_estimators = [100, 50]\n",
    "\n",
    "name_experiment = 'First grid-search'\n",
    "\n",
    "parameters = product(max_depth, scale_pos_weight, learning_rate, n_estimators)\n",
    "parameters_list = list(parameters)\n",
    "\n",
    "print('Number of experiments:', len(parameters_list))\n",
    "\n",
    "# Hyperparameter search\n",
    "results = []\n",
    "best_param = None\n",
    "best_f1 = 0.0\n",
    "warnings.filterwarnings('ignore')\n",
    "\n",
    "for i, param in enumerate(parameters_list):\n",
    "    print('Running experiment number ', i)\n",
    "    with mlflow.start_run(run_name=name_experiment):\n",
    "        # Tell mlflow to log the following parameters for the experiments dashboard\n",
    "        mlflow.log_param('max_depth', param[0])\n",
    "        mlflow.log_param('scale_pos_weight', param[1])\n",
    "        mlflow.log_param('learning_rate', param[2])\n",
    "        mlflow.log_param('n_estimators', param[3])\n",
    "        # mlflow.log_param('version', os.system('git describe --all --long'))\n",
    "\n",
    "        try:\n",
    "            parameters = dict(n_estimators=param[3], \n",
    "                              max_depth=param[0], \n",
    "                              scale_pos_weight=param[1],\n",
    "                              learning_rate=param[2])\n",
    "\n",
    "            clf = train_xgboost_pipeline(data_train.drop(['loan_risk'],axis=1),\n",
    "                                         data_train['loan_risk'], \n",
    "                                         parameters=parameters)\n",
    "            \n",
    "            \n",
    "            report_val = classification_report(data_val['loan_risk'],\n",
    "                                               clf.predict(data_val.drop(['loan_risk'],axis=1)), \n",
    "                                               output_dict=True)\n",
    "\n",
    "            report_test = classification_report(data_test['loan_risk'],\n",
    "                                                clf.predict(data_test.drop(['loan_risk'],axis=1)), \n",
    "                                                output_dict=True)\n",
    "\n",
    "            # Tell mlflow to log the following metrics\n",
    "            mlflow.log_metric(\"recall\", report_val['0']['recall'])            \n",
    "            mlflow.log_metric(\"precision\", report_val['0']['precision'])\n",
    "            mlflow.log_metric(\"F1\", report_val['0']['f1-score'])\n",
    "\n",
    "            # Store this artifact for each run\n",
    "            json.dump(report_test, open(\"metrics.json\", \"w\"))\n",
    "            mlflow.log_artifact('./metrics.json')\n",
    "\n",
    "            # save the best experiment yet (in terms of precision)\n",
    "            if report_val['0']['f1-score'] > best_f1:\n",
    "                best_param = parameters\n",
    "                best_f1 = report_val['0']['f1-score']\n",
    "            \n",
    "                                            \n",
    "            results.append([param, report_val['0']['f1-score']])\n",
    "\n",
    "        except ValueError:\n",
    "            print('bad parameter combination:', param)\n",
    "            continue\n",
    "\n",
    "mlflow.end_run()\n",
    "print('Best F1 was:', best_f1)\n",
    "print('Using the following parameters')\n",
    "print(best_param)"
   ]
  },
  {
   "cell_type": "code",
   "execution_count": null,
   "id": "a27fde37",
   "metadata": {},
   "outputs": [],
   "source": [
    "best_param"
   ]
  },
  {
   "cell_type": "markdown",
   "id": "b9513569",
   "metadata": {},
   "source": [
    "# Salvataggio del modello "
   ]
  },
  {
   "cell_type": "markdown",
   "id": "7018f1eb",
   "metadata": {},
   "source": [
    "Salviamo il modello nel nostro registro"
   ]
  },
  {
   "cell_type": "code",
   "execution_count": null,
   "id": "873649df",
   "metadata": {},
   "outputs": [],
   "source": [
    "from mlflow.models.signature import infer_signature\n",
    "\n",
    "best_clf = train_xgboost_pipeline(data_train.drop(['loan_risk'], axis=1),\n",
    "                                     data_train['loan_risk'], \n",
    "                                     parameters=best_param)\n",
    "\n",
    "signature = infer_signature(data_val.drop(['loan_risk'], axis=1),\n",
    "                            best_clf.predict(data_val.drop(['loan_risk'], axis=1)))\n",
    "\n",
    "\n",
    "input_example = {}\n",
    "for i in data_val.drop(['loan_risk'],axis=1).columns:\n",
    "    input_example[i] = data_val[i].iloc[0]\n",
    "\n",
    "    \n",
    "mlflow.sklearn.save_model(best_clf, path='./model2/',signature=signature, input_example=input_example)\n",
    "\n",
    "\n",
    "# per caricare uno dei modelli del registro\n",
    "# saved_model_path=\".\"\n",
    "# reloaded_model = mlflow.sklearn.load_model(model_uri=saved_model_path)"
   ]
  },
  {
   "cell_type": "code",
   "execution_count": null,
   "id": "3254bce6",
   "metadata": {},
   "outputs": [],
   "source": [
    "input_example"
   ]
  },
  {
   "cell_type": "markdown",
   "id": "3c8184d1",
   "metadata": {},
   "source": [
    "# Creazione di un'API impacchettata in un container Docker"
   ]
  },
  {
   "cell_type": "markdown",
   "id": "3e87c825",
   "metadata": {},
   "source": [
    "mlflow offre la possibilita' di mettere in produzione uno dei modelli del nostro registro impacchettandolo in un container docker che espone un'API per fare query del modello.\n",
    "\n",
    "\n",
    "Per creare l'immagine docker possiamo usare il comando\n",
    "```\n",
    "mlflow models build-docker -m \"./best_model\" -n \"xgboost_loan\"     \n",
    "```\n",
    "\n",
    "\n",
    "Una volta che l'immagine e' stata creata possiamo fare partire il container con\n",
    "```\n",
    "docker run -p 5001:8080 xgboost_loan                                    \n",
    "```                                        "
   ]
  },
  {
   "cell_type": "markdown",
   "id": "9e2b0967",
   "metadata": {},
   "source": [
    "# Query del modello\n",
    "\n",
    "Prendiamo un esempio di input salvato e creiamo un payload per l'API"
   ]
  },
  {
   "cell_type": "code",
   "execution_count": null,
   "id": "29a0ec08",
   "metadata": {},
   "outputs": [],
   "source": [
    "import requests\n",
    "import json\n",
    "\n",
    "\n",
    "with open('./model2/input_example.json') as f:\n",
    "    sample_input = json.load(f)\n",
    "sample_input['data'][0][0]=1000\n",
    "print(sample_input)"
   ]
  },
  {
   "cell_type": "code",
   "execution_count": null,
   "id": "57b3bec9",
   "metadata": {},
   "outputs": [],
   "source": [
    "response = requests.post(\n",
    "              url='http://127.0.0.1:5001/invocations', data=json.dumps(sample_input),\n",
    "              headers={\"Content-type\": \"application/json\"})\n",
    "response_json = json.loads(response.text)\n",
    "print('Predicted loan outcome: '+response_json[0])"
   ]
  }
 ],
 "metadata": {
  "kernelspec": {
   "display_name": "Python 3.10.4 ('.venv': venv)",
   "language": "python",
   "name": "python3"
  },
  "language_info": {
   "codemirror_mode": {
    "name": "ipython",
    "version": 3
   },
   "file_extension": ".py",
   "mimetype": "text/x-python",
   "name": "python",
   "nbconvert_exporter": "python",
   "pygments_lexer": "ipython3",
   "version": "3.10.4"
  },
  "vscode": {
   "interpreter": {
    "hash": "b23bae12baba1c27b16b0140c1e366f50a006a69c61b084f2a278c0fcff08222"
   }
  }
 },
 "nbformat": 4,
 "nbformat_minor": 5
}
